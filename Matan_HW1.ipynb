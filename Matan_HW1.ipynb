{
 "cells": [
  {
   "cell_type": "code",
   "execution_count": 3,
   "metadata": {},
   "outputs": [],
   "source": [
    "import numpy as np\n",
    "import matplotlib.pyplot as plt\n",
    "\n",
    "%matplotlib inline"
   ]
  },
  {
   "cell_type": "markdown",
   "metadata": {},
   "source": [
    "### Тема 1. Задание 1. Как относятся друг к другу множества и последовательность ?"
   ]
  },
  {
   "cell_type": "markdown",
   "metadata": {},
   "source": [
    "Последовательность - часть множества"
   ]
  },
  {
   "cell_type": "markdown",
   "metadata": {},
   "source": [
    "### Тема 1. Задание 2"
   ]
  },
  {
   "cell_type": "markdown",
   "metadata": {},
   "source": [
    "\t2.1. Для любого у из диапазона  от 0 до 1, таких что функция sgn(y) равна 1\n",
    "\t2.2. Для любых натуральных чисел n, больших 2, существуют натуральные числа x, y, z,\n",
    "\tтакие что x в степени n равно y в степени n плюс z в степени n\n",
    "\t2.3. Для любого x вещественного числа, существует  вещественное икс большое,\n",
    "\tтакое что икс большое больше x\n",
    "\t2.4. Для любого комплексного числа х не существует комплексного числа y, таких что х больше у или х меньше у\n",
    "\t2.5. Для любого у из диапазона от 0 до пи/2 существует эпсилон больше 0, такой, что \n",
    "\tsin y меньше, чем sin (у плюс эпсилон)\n",
    "\t2.6.Для любого у из диапазона от 0 до пи существует эпсилон больше 0, такой, что \n",
    "\tcos y больше, чем cos (у плюс эпсилон)\n",
    "\t2.7. существует х, такой, что не принадлежит множеству ни натуральных, ни целых, ни рациональных\n",
    "\tни вещественных, ни комплексных чисел\n"
   ]
  },
  {
   "cell_type": "markdown",
   "metadata": {},
   "source": [
    "### Тема 2. Задание 1"
   ]
  },
  {
   "cell_type": "markdown",
   "metadata": {},
   "source": [
    "Не понятно что делать"
   ]
  },
  {
   "cell_type": "markdown",
   "metadata": {},
   "source": [
    "### Тема 3. Задание 1"
   ]
  },
  {
   "cell_type": "code",
   "execution_count": 33,
   "metadata": {},
   "outputs": [
    {
     "data": {
      "image/png": "[encoded data removed]",
      "text/plain": [
       "<Figure size 720x576 with 4 Axes>"
      ]
     },
     "metadata": {
      "needs_background": "light"
     },
     "output_type": "display_data"
    }
   ],
   "source": [
    "fig, ax = plt.subplots(nrows=2, ncols=2)\n",
    "ax1, ax2, ax3,ax4 = ax.flatten()\n",
    "x1 = np.linspace(1,10,10)\n",
    "y1 = 2**x1 - x1\n",
    "ax1.scatter(x1, y1)\n",
    "ax1.set_title('График 1')\n",
    "\n",
    "x2 = np.linspace(2,15,14)\n",
    "y2 = 1/ (1-x2)\n",
    "ax2.scatter(x2, y2)\n",
    "ax2.set_title('График 2')\n",
    "\n",
    "x3 = np.linspace(1,15,15)\n",
    "y3 = (-1)**x3 + np.sqrt(2*x3)\n",
    "ax3.scatter(x3, y3)\n",
    "ax3.set_title('График 3')\n",
    "\n",
    "x4 = np.linspace(1,15,15)\n",
    "y4 = (-1)**(2*x4) + 1/(x4*x4)\n",
    "ax4.scatter(x4, y4)\n",
    "ax4.set_title('График 4')\n",
    "fig.set_size_inches(10, 8)\n",
    "\n"
   ]
  },
  {
   "cell_type": "markdown",
   "metadata": {},
   "source": [
    "### y1 = 2**x1 - x1.  Последовательность (график 1) неограничена сверху, возврастает"
   ]
  },
  {
   "cell_type": "markdown",
   "metadata": {},
   "source": [
    "### y2 = 1/ (1-x2).  Последовательность  (график 2) ограничена снизу и сверху т.к. стремится к 0, возврастает"
   ]
  },
  {
   "cell_type": "markdown",
   "metadata": {},
   "source": [
    "### y3 =(-1)**x3 + np.sqrt(2*x3).  Последовательность  (график 3) неограничена, последовательность нельзя считать возрастающей или убывающей."
   ]
  },
  {
   "cell_type": "markdown",
   "metadata": {},
   "source": [
    "### y4 = (-1)**(2*x4) + 1/(x4*x4) Последовательность  (график 4) убывает, ограничена и стремится к 1."
   ]
  },
  {
   "cell_type": "markdown",
   "metadata": {},
   "source": [
    "## Пятый член последовательности"
   ]
  },
  {
   "cell_type": "markdown",
   "metadata": {},
   "source": [
    "1. 2**5 - 5 = 27\n",
    "2. 1/(1-6) = -1/5\n",
    "3. -1**5+sqrt(2*5) = -1+ sqrt(10)\n",
    "4. -1**(2*5)+1/5*5 = 1+1/25 = 26/25"
   ]
  },
  {
   "cell_type": "code",
   "execution_count": null,
   "metadata": {},
   "outputs": [],
   "source": []
  }
 ],
 "metadata": {
  "kernelspec": {
   "display_name": "Python 3",
   "language": "python",
   "name": "python3"
  },
  "language_info": {
   "codemirror_mode": {
    "name": "ipython",
    "version": 3
   },
   "file_extension": ".py",
   "mimetype": "text/x-python",
   "name": "python",
   "nbconvert_exporter": "python",
   "pygments_lexer": "ipython3",
   "version": "3.7.2"
  }
 },
 "nbformat": 4,
 "nbformat_minor": 2
}
